{
 "cells": [
  {
   "cell_type": "markdown",
   "metadata": {},
   "source": [
    "# Bayesian Optimization of CNN with Scikit-Optimize\n",
    "\n",
    "In this notebook, we will use **Bayesian Optimization** to select the best **hyperparameters** for a CNN that recognizes digits in images, using the MNIST dataset and the open source Python package \n",
    "\n",
    "## Notebook content\n",
    "\n",
    "- Data Preparation\n",
    "- Set up a simple CNN\n",
    "- Set up the hyperparameter search shape\n",
    "- Set up the objective function\n",
    "- Perform Bayesian Optimization\n",
    "- Evaluate Model Performance"
   ]
  },
  {
   "cell_type": "code",
   "execution_count": 4,
   "metadata": {},
   "outputs": [],
   "source": [
    "import itertools\n",
    "import numpy as np\n",
    "import pandas as pd\n",
    "import matplotlib.pyplot as plt\n",
    "import seaborn as sns\n",
    "from sklearn.model_selection import train_test_split\n",
    "from sklearn.metrics import accuracy_score, confusion_matrix\n",
    "\n",
    "from keras.callbacks import ReduceLROnPlateau\n",
    "from keras.layers import Dense, Flatten, Conv2D, MaxPool2D\n",
    "from keras.models import Sequential, load_model\n",
    "from keras.optimizers import Adam\n",
    "from keras.utils import to_categorical\n",
    "\n",
    "from skopt import gp_minimize\n",
    "from skopt.space import Real, Integer, Categorical\n",
    "from skopt.plots import plot_convergence, plot_objective, plot_evaluations\n",
    "from skopt.utils import use_named_args"
   ]
  },
  {
   "cell_type": "code",
   "execution_count": 5,
   "metadata": {},
   "outputs": [],
   "source": [
    "import numpy as np\n",
    "import tensorflow as tf\n",
    "from tensorflow import keras\n",
    "(X_train, y_train), (X_test, y_test) = keras.datasets.mnist.load_data()\n"
   ]
  },
  {
   "cell_type": "code",
   "execution_count": 6,
   "metadata": {},
   "outputs": [
    {
     "data": {
      "text/plain": [
       "Text(0, 0.5, 'Number of images')"
      ]
     },
     "execution_count": 6,
     "metadata": {},
     "output_type": "execute_result"
    },
    {
     "data": {
      "image/png": "[encoded data removed]",
      "text/plain": [
       "<Figure size 640x480 with 1 Axes>"
      ]
     },
     "metadata": {},
     "output_type": "display_data"
    }
   ],
   "source": [
    "g = sns.countplot(x = y_train)\n",
    "plt.xlabel('Digits')\n",
    "plt.ylabel('Number of images')"
   ]
  },
  {
   "cell_type": "code",
   "execution_count": 7,
   "metadata": {},
   "outputs": [],
   "source": [
    "X_train = X_train / 255\n",
    "X_test = X_test / 255\n"
   ]
  },
  {
   "cell_type": "markdown",
   "metadata": {},
   "source": [
    "## Reshape\n",
    "\n",
    "The images were stored in a pandas dataframe as 1-D vectors of 784 values. For a CNN with Keras, we need tensors with the following dimensions: width x height x channel. \n",
    "\n",
    "Thus, we reshape all data to 28 x 2 8 x 1, 3-D matrices. \n",
    "\n",
    "The 3rd dimension corresponds to the channel. RGB images have 3 channels. MNIST images are in gray-scale, thus they have only one channel in the 3rd dimension."
   ]
  },
  {
   "cell_type": "code",
   "execution_count": 9,
   "metadata": {},
   "outputs": [],
   "source": [
    "X_train = X_train.reshape(-1, 28, 28, 1)\n",
    "X_test = X_test.reshape(-1, 28, 28, 1)"
   ]
  },
  {
   "cell_type": "code",
   "execution_count": 10,
   "metadata": {},
   "outputs": [],
   "source": [
    "#Target encoder \n",
    "y_train = to_categorical(y_train, num_classes = 10)\n",
    "y_test = to_categorical(y_test, num_classes = 10)\n"
   ]
  },
  {
   "cell_type": "code",
   "execution_count": 12,
   "metadata": {},
   "outputs": [],
   "source": [
    "#Define the cnn\n",
    "def create_cnn(\n",
    "        learning_rate,\n",
    "        num_dense_layers,\n",
    "        num_dense_nodes,\n",
    "        activation,\n",
    "):\n",
    "    \"\"\"\n",
    "    Hyper-parameters:\n",
    "    learning_rate:     Learning-rate for the optimizer.\n",
    "    num_dense_layers:  Number of dense layers.\n",
    "    num_dense_nodes:   Number of nodes in each dense layer.\n",
    "    activation:        Activation function for all layers.\n",
    "    \"\"\"\n",
    "    model = Sequential()\n",
    "\n",
    "\n",
    "    model.add(Conv2D(filters = 16, padding = 'same',kernel_size = 5, strides =1,\n",
    "                     activation = activation, input_shape = (28, 28, 1),\n",
    "                     name = 'layer_conv1'))\n",
    "    \n",
    "    model.add(MaxPool2D(pool_size=2, strides = 2))\n",
    "\n",
    "    #Second conv layer\n",
    "    model.add(Conv2D(filters = 36, padding = 'same',kernel_size = 5, strides =1,\n",
    "                     activation = activation, input_shape = (28, 28, 1),\n",
    "                     name = 'layer_conv2'))\n",
    "    model.add(MaxPool2D(pool_size=2, strides = 2))\n",
    "\n",
    "    model.add(Flatten())\n",
    "\n",
    "    for i in range(num_dense_layers):\n",
    "        model.add(Dense(num_dense_layers,\n",
    "                        activation))\n",
    "        \n",
    "    model.add(Dense(10, activation = 'softmax'))\n",
    "    optimizer = Adam(learning_rate = learning_rate)\n",
    "    model.compile(optimizer=optimizer,\n",
    "                  loss = 'categorical_crossentropy',\n",
    "                  metrics = ['accuracy'])\n",
    "    return model"
   ]
  },
  {
   "cell_type": "code",
   "execution_count": 13,
   "metadata": {},
   "outputs": [],
   "source": [
    "# Define the hyperparemeters space\n",
    "dim_learning_rate = Real(\n",
    "    low = 1e-6, high = 1e-2, prior = 'log-uniform', name = 'learning_rate',\n",
    "    \n",
    ")\n",
    "\n",
    "dim_num_dense_layers = Integer(low = 1, high = 5, name = 'num_dense_layers')\n",
    "dim_num_dense_nodes = Integer(low =5, high = 512, name = 'num_dense_nodes')\n",
    "dim_activation = Categorical(categories = ['relu','sigmoid'], name = 'activation')"
   ]
  },
  {
   "cell_type": "code",
   "execution_count": 14,
   "metadata": {},
   "outputs": [],
   "source": [
    "#The hyperspace space grid\n",
    "param_grid = [\n",
    "    dim_learning_rate,\n",
    "    dim_num_dense_layers,\n",
    "    dim_num_dense_nodes,\n",
    "    dim_activation\n",
    "]"
   ]
  },
  {
   "cell_type": "code",
   "execution_count": 15,
   "metadata": {},
   "outputs": [],
   "source": [
    "## Define the objective function\n",
    "path_best_model = 'cnn_model.keras'\n",
    "best_accuracy = 0"
   ]
  },
  {
   "cell_type": "code",
   "execution_count": null,
   "metadata": {},
   "outputs": [],
   "source": []
  }
 ],
 "metadata": {
  "kernelspec": {
   "display_name": "base",
   "language": "python",
   "name": "python3"
  },
  "language_info": {
   "codemirror_mode": {
    "name": "ipython",
    "version": 3
   },
   "file_extension": ".py",
   "mimetype": "text/x-python",
   "name": "python",
   "nbconvert_exporter": "python",
   "pygments_lexer": "ipython3",
   "version": "3.12.7"
  }
 },
 "nbformat": 4,
 "nbformat_minor": 2
}
