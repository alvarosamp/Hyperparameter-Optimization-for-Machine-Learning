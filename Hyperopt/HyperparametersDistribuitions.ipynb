{
 "cells": [
  {
   "cell_type": "markdown",
   "metadata": {},
   "source": [
    "# Hyperopt: Space Configuration\n",
    "\n",
    "One of the most valuable offers of Hyperopt is the flexibility it provides to create priors over the hyperparameters distributions.\n",
    "\n",
    "Hyperopt offers:\n",
    "\n",
    "- Multiple distributions\n",
    "- Possibility to combine distributions\n",
    "- Possibility to create nested spaces\n",
    "- Multiple configuration ways including lists, dictionaries and tuples\n",
    "\n",
    "\n",
    "## Distributions\n",
    "\n",
    "Taken from [hp documentation](http://hyperopt.github.io/hyperopt/getting-started/search_spaces/) \n",
    "\n",
    "- **hp.choice**: returns one of several options (suitable for categorical hyperparams)\n",
    "- **hp.randint**: returns a random integer between 0 and an upper limit\n",
    "- **hp.uniform**: returns a value uniformly between specified limits\n",
    "- **hp.quniform**: Returns a value like round(uniform(low, high) / q) * q\n",
    "\n",
    "**hp.quniform** would be an equivalent of randint (if q=1), but the upper **and lower** limits can be specified. hp.quniform also offers the possibility to use bigger values of q. So if we search for the optimal number of trees in a random forest, we could search hp.quniform('n_estimators', 10, 1000, 50), in which case we would sample between 10 and 1000 trees in increments of 50.\n",
    "\n",
    "- **hp.loguniform**: draws values from exp(uniform(low, high)) so that the logarithm of the returned value is uniformly distributed\n",
    "- **hp.qloguniform**: Returns a value like round(exp(uniform(low, high)) / q) * q (similar use and cautions to hp.quniform but for log-uniform distributions)\n",
    "- **hp.normal**: draws from a normal distribution with specified mu and sigma\n",
    "- **hp.qnormal**: Returns a value like round(normal(mu, sigma) / q) * q\n",
    "- **hp.lognormal**: Returns a value drawn according to exp(normal(mu, sigma)) so that the logarithm of the return value is normally distributed\n",
    "- **hp.qlognormal**: Returns a value like round(exp(normal(mu, sigma)) / q) * q\n",
    "\n",
    "### Important for q distributions\n",
    "Another thing to notice is that q-distributions (qnormal, quniform, etc) return floats, where the value of the hyperparameter needs to be an integer (otherwise most models will return an error). Thus, some re-casting is necessary to pass this value to the models."
   ]
  },
  {
   "cell_type": "markdown",
   "metadata": {},
   "source": []
  }
 ],
 "metadata": {
  "language_info": {
   "name": "python"
  }
 },
 "nbformat": 4,
 "nbformat_minor": 2
}
